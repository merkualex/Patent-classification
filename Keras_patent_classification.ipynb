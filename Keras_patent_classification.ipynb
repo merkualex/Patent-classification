{
 "cells": [
  {
   "cell_type": "code",
   "execution_count": 2,
   "metadata": {
    "colab": {
     "base_uri": "https://localhost:8080/",
     "height": 97
    },
    "colab_type": "code",
    "id": "XPgm0DoB5p5e",
    "outputId": "39893a21-7474-4928-b676-8476de14d395"
   },
   "outputs": [
    {
     "name": "stderr",
     "output_type": "stream",
     "text": [
      "Using TensorFlow backend.\n"
     ]
    },
    {
     "data": {
      "text/html": [
       "<p style=\"color: red;\">\n",
       "The default version of TensorFlow in Colab will soon switch to TensorFlow 2.x.<br>\n",
       "We recommend you <a href=\"https://www.tensorflow.org/guide/migrate\" target=\"_blank\">upgrade</a> now \n",
       "or ensure your notebook will continue to use TensorFlow 1.x via the <code>%tensorflow_version 1.x</code> magic:\n",
       "<a href=\"https://colab.research.google.com/notebooks/tensorflow_version.ipynb\" target=\"_blank\">more info</a>.</p>\n"
      ],
      "text/plain": [
       "<IPython.core.display.HTML object>"
      ]
     },
     "metadata": {
      "tags": []
     },
     "output_type": "display_data"
    }
   ],
   "source": [
    "import pandas as pd  \n",
    "import numpy as np \n",
    "import io\n",
    "from google.colab import files\n",
    "from sklearn import model_selection, preprocessing, metrics\n",
    "import re\n",
    "import nltk\n",
    "from sklearn.feature_extraction.text import TfidfVectorizer\n",
    "\n",
    "from keras.preprocessing.text import Tokenizer\n",
    "from keras.preprocessing.sequence import pad_sequences\n"
   ]
  },
  {
   "cell_type": "code",
   "execution_count": 0,
   "metadata": {
    "colab": {},
    "colab_type": "code",
    "id": "Fg8KvQyy5p5k"
   },
   "outputs": [],
   "source": [
    "data = pd.read_csv(\"/content/drive/My Drive/Colab Notebooks/USPTO_grant.csv\",usecols =[\"abstract\",\"title\",\"ipc\"])"
   ]
  },
  {
   "cell_type": "markdown",
   "metadata": {
    "colab_type": "text",
    "id": "oiKBkSW-DEvm"
   },
   "source": [
    "USPTO patent dataset."
   ]
  },
  {
   "cell_type": "code",
   "execution_count": 4,
   "metadata": {
    "colab": {
     "base_uri": "https://localhost:8080/",
     "height": 238
    },
    "colab_type": "code",
    "id": "thHIz-u_5p5n",
    "outputId": "dd877ee9-4a5e-4d90-ac81-f5f9b86f20c5"
   },
   "outputs": [
    {
     "data": {
      "text/html": [
       "<div>\n",
       "<style scoped>\n",
       "    .dataframe tbody tr th:only-of-type {\n",
       "        vertical-align: middle;\n",
       "    }\n",
       "\n",
       "    .dataframe tbody tr th {\n",
       "        vertical-align: top;\n",
       "    }\n",
       "\n",
       "    .dataframe thead th {\n",
       "        text-align: right;\n",
       "    }\n",
       "</style>\n",
       "<table border=\"1\" class=\"dataframe\">\n",
       "  <thead>\n",
       "    <tr style=\"text-align: right;\">\n",
       "      <th></th>\n",
       "      <th>ipc</th>\n",
       "      <th>title</th>\n",
       "      <th>abstract</th>\n",
       "    </tr>\n",
       "  </thead>\n",
       "  <tbody>\n",
       "    <tr>\n",
       "      <th>36514</th>\n",
       "      <td>h05k007/20</td>\n",
       "      <td>fan tray perforation pattern</td>\n",
       "      <td>an apparatus is provided in one example embodi...</td>\n",
       "    </tr>\n",
       "    <tr>\n",
       "      <th>36515</th>\n",
       "      <td>h05k009/00</td>\n",
       "      <td>electronic device and method for producing same</td>\n",
       "      <td>the present invention provides an electronic d...</td>\n",
       "    </tr>\n",
       "    <tr>\n",
       "      <th>36516</th>\n",
       "      <td>h05k013/02</td>\n",
       "      <td>tape feeder</td>\n",
       "      <td>a tape feeder includes a reel holding section,...</td>\n",
       "    </tr>\n",
       "    <tr>\n",
       "      <th>36517</th>\n",
       "      <td>h05k013/04</td>\n",
       "      <td>cut-and-clinch apparatus and board work machine</td>\n",
       "      <td>a cut-and-clinch apparatus that cuts and bends...</td>\n",
       "    </tr>\n",
       "    <tr>\n",
       "      <th>36518</th>\n",
       "      <td>b23p019/00</td>\n",
       "      <td>board work system, and method for managing mou...</td>\n",
       "      <td>a board work system which optimizes amounting ...</td>\n",
       "    </tr>\n",
       "  </tbody>\n",
       "</table>\n",
       "</div>"
      ],
      "text/plain": [
       "              ipc  ...                                           abstract\n",
       "36514  h05k007/20  ...  an apparatus is provided in one example embodi...\n",
       "36515  h05k009/00  ...  the present invention provides an electronic d...\n",
       "36516  h05k013/02  ...  a tape feeder includes a reel holding section,...\n",
       "36517  h05k013/04  ...  a cut-and-clinch apparatus that cuts and bends...\n",
       "36518  b23p019/00  ...  a board work system which optimizes amounting ...\n",
       "\n",
       "[5 rows x 3 columns]"
      ]
     },
     "execution_count": 4,
     "metadata": {
      "tags": []
     },
     "output_type": "execute_result"
    }
   ],
   "source": [
    "data.tail()"
   ]
  },
  {
   "cell_type": "markdown",
   "metadata": {
    "colab_type": "text",
    "id": "B0X4pi5B45_Q"
   },
   "source": [
    "The International Patent Classification (**IPC**) is a hierarchical patent classification system used in over 100 countries to classify the content of patents in a uniform manner."
   ]
  },
  {
   "cell_type": "code",
   "execution_count": 6,
   "metadata": {
    "colab": {
     "base_uri": "https://localhost:8080/",
     "height": 85
    },
    "colab_type": "code",
    "id": "1yZBBAKU5p5r",
    "outputId": "8a177431-134e-4671-d172-9e6769a06720"
   },
   "outputs": [
    {
     "data": {
      "text/plain": [
       "ipc         33672\n",
       "title       36424\n",
       "abstract    33672\n",
       "dtype: int64"
      ]
     },
     "execution_count": 6,
     "metadata": {
      "tags": []
     },
     "output_type": "execute_result"
    }
   ],
   "source": [
    "data.count()"
   ]
  },
  {
   "cell_type": "code",
   "execution_count": 7,
   "metadata": {
    "colab": {
     "base_uri": "https://localhost:8080/",
     "height": 51
    },
    "colab_type": "code",
    "id": "eYvGRyXk5p5v",
    "outputId": "e06fb306-9aea-4ff2-a353-d5a22eeb5984"
   },
   "outputs": [
    {
     "name": "stdout",
     "output_type": "stream",
     "text": [
      "95 documents with null title\n",
      "2847 documents with null abstract\n"
     ]
    }
   ],
   "source": [
    "print(\"{} documents with null title\".format(data['title'].isnull().sum()))\n",
    "print(\"{} documents with null abstract\".format(data['abstract'].isnull().sum()))\n",
    "data_clean = data.dropna(how='any')"
   ]
  },
  {
   "cell_type": "code",
   "execution_count": 8,
   "metadata": {
    "colab": {
     "base_uri": "https://localhost:8080/",
     "height": 85
    },
    "colab_type": "code",
    "id": "v9Fz4iRy5p5y",
    "outputId": "7b3a1599-7dfe-4077-d341-f4daeb67d44e"
   },
   "outputs": [
    {
     "data": {
      "text/plain": [
       "ipc         33577\n",
       "title       33577\n",
       "abstract    33577\n",
       "dtype: int64"
      ]
     },
     "execution_count": 8,
     "metadata": {
      "tags": []
     },
     "output_type": "execute_result"
    }
   ],
   "source": [
    "data_clean.count()"
   ]
  },
  {
   "cell_type": "code",
   "execution_count": 9,
   "metadata": {
    "colab": {
     "base_uri": "https://localhost:8080/",
     "height": 34
    },
    "colab_type": "code",
    "id": "o2Ey-YNT5p52",
    "outputId": "a8641640-922a-4ed1-b7bd-3f0fdec5b9ae"
   },
   "outputs": [
    {
     "name": "stdout",
     "output_type": "stream",
     "text": [
      "(33577, 3)\n"
     ]
    }
   ],
   "source": [
    "print(data_clean.shape)"
   ]
  },
  {
   "cell_type": "code",
   "execution_count": 10,
   "metadata": {
    "colab": {
     "base_uri": "https://localhost:8080/",
     "height": 204
    },
    "colab_type": "code",
    "id": "0lweWIWJ5p55",
    "outputId": "0a02f7dc-dba3-47c2-c27d-1dd603f8ca41"
   },
   "outputs": [
    {
     "data": {
      "text/html": [
       "<div>\n",
       "<style scoped>\n",
       "    .dataframe tbody tr th:only-of-type {\n",
       "        vertical-align: middle;\n",
       "    }\n",
       "\n",
       "    .dataframe tbody tr th {\n",
       "        vertical-align: top;\n",
       "    }\n",
       "\n",
       "    .dataframe thead th {\n",
       "        text-align: right;\n",
       "    }\n",
       "</style>\n",
       "<table border=\"1\" class=\"dataframe\">\n",
       "  <thead>\n",
       "    <tr style=\"text-align: right;\">\n",
       "      <th></th>\n",
       "      <th>ipc</th>\n",
       "      <th>title</th>\n",
       "      <th>abstract</th>\n",
       "    </tr>\n",
       "  </thead>\n",
       "  <tbody>\n",
       "    <tr>\n",
       "      <th>600</th>\n",
       "      <td>a01h005/08</td>\n",
       "      <td>apple tree named ‘zouk 16’</td>\n",
       "      <td>a new and distinctive variety of a  malus dome...</td>\n",
       "    </tr>\n",
       "    <tr>\n",
       "      <th>601</th>\n",
       "      <td>a01h005/08</td>\n",
       "      <td>apple tree named ‘duke fuji’</td>\n",
       "      <td>‘duke fuji’ apple tree is a naturally occurrin...</td>\n",
       "    </tr>\n",
       "    <tr>\n",
       "      <th>602</th>\n",
       "      <td>a01h005/08</td>\n",
       "      <td>sweet cherry tree named ‘ifg cher-five’</td>\n",
       "      <td>this invention is a new and distinct sweet che...</td>\n",
       "    </tr>\n",
       "    <tr>\n",
       "      <th>603</th>\n",
       "      <td>a01h005/08</td>\n",
       "      <td>mandarin tree named ‘rubygs’</td>\n",
       "      <td>‘rubygs’ is a new and distinct mandarin tree n...</td>\n",
       "    </tr>\n",
       "    <tr>\n",
       "      <th>604</th>\n",
       "      <td>a01h005/08</td>\n",
       "      <td>grapevine plant named ‘ifg thirty-seven’</td>\n",
       "      <td>this invention is a new and distinct grapevine...</td>\n",
       "    </tr>\n",
       "  </tbody>\n",
       "</table>\n",
       "</div>"
      ],
      "text/plain": [
       "            ipc  ...                                           abstract\n",
       "600  a01h005/08  ...  a new and distinctive variety of a  malus dome...\n",
       "601  a01h005/08  ...  ‘duke fuji’ apple tree is a naturally occurrin...\n",
       "602  a01h005/08  ...  this invention is a new and distinct sweet che...\n",
       "603  a01h005/08  ...  ‘rubygs’ is a new and distinct mandarin tree n...\n",
       "604  a01h005/08  ...  this invention is a new and distinct grapevine...\n",
       "\n",
       "[5 rows x 3 columns]"
      ]
     },
     "execution_count": 10,
     "metadata": {
      "tags": []
     },
     "output_type": "execute_result"
    }
   ],
   "source": [
    "data_clean.head()"
   ]
  },
  {
   "cell_type": "code",
   "execution_count": 0,
   "metadata": {
    "colab": {},
    "colab_type": "code",
    "id": "ez2O88u15p58"
   },
   "outputs": [],
   "source": [
    "data_full = pd.DataFrame()\n",
    "data_ipc_list = pd.DataFrame()\n",
    "\n",
    "data_full['full_text'] = data_clean['title'] + \" \" + data_clean['abstract']\n",
    "data_full['ipc'] = data_clean['ipc']\n",
    "\n",
    "data_full['ipc_list'] = data_clean['ipc'].apply(lambda x: x.split(','))\n"
   ]
  },
  {
   "cell_type": "code",
   "execution_count": 12,
   "metadata": {
    "colab": {
     "base_uri": "https://localhost:8080/",
     "height": 359
    },
    "colab_type": "code",
    "id": "cor0YHLs5p6A",
    "outputId": "33653dc0-e0e5-4942-d14f-5f3bfb6b6d0b",
    "scrolled": true
   },
   "outputs": [
    {
     "data": {
      "text/html": [
       "<div>\n",
       "<style scoped>\n",
       "    .dataframe tbody tr th:only-of-type {\n",
       "        vertical-align: middle;\n",
       "    }\n",
       "\n",
       "    .dataframe tbody tr th {\n",
       "        vertical-align: top;\n",
       "    }\n",
       "\n",
       "    .dataframe thead th {\n",
       "        text-align: right;\n",
       "    }\n",
       "</style>\n",
       "<table border=\"1\" class=\"dataframe\">\n",
       "  <thead>\n",
       "    <tr style=\"text-align: right;\">\n",
       "      <th></th>\n",
       "      <th>full_text</th>\n",
       "      <th>ipc</th>\n",
       "      <th>ipc_list</th>\n",
       "    </tr>\n",
       "  </thead>\n",
       "  <tbody>\n",
       "    <tr>\n",
       "      <th>600</th>\n",
       "      <td>apple tree named ‘zouk 16’ a new and distincti...</td>\n",
       "      <td>a01h005/08</td>\n",
       "      <td>[a01h005/08]</td>\n",
       "    </tr>\n",
       "    <tr>\n",
       "      <th>601</th>\n",
       "      <td>apple tree named ‘duke fuji’ ‘duke fuji’ apple...</td>\n",
       "      <td>a01h005/08</td>\n",
       "      <td>[a01h005/08]</td>\n",
       "    </tr>\n",
       "    <tr>\n",
       "      <th>602</th>\n",
       "      <td>sweet cherry tree named ‘ifg cher-five’ this i...</td>\n",
       "      <td>a01h005/08</td>\n",
       "      <td>[a01h005/08]</td>\n",
       "    </tr>\n",
       "    <tr>\n",
       "      <th>603</th>\n",
       "      <td>mandarin tree named ‘rubygs’ ‘rubygs’ is a new...</td>\n",
       "      <td>a01h005/08</td>\n",
       "      <td>[a01h005/08]</td>\n",
       "    </tr>\n",
       "    <tr>\n",
       "      <th>604</th>\n",
       "      <td>grapevine plant named ‘ifg thirty-seven’ this ...</td>\n",
       "      <td>a01h005/08</td>\n",
       "      <td>[a01h005/08]</td>\n",
       "    </tr>\n",
       "    <tr>\n",
       "      <th>605</th>\n",
       "      <td>grapevine plant named ‘sugrafiftytwo’ a new an...</td>\n",
       "      <td>a01h005/08</td>\n",
       "      <td>[a01h005/08]</td>\n",
       "    </tr>\n",
       "    <tr>\n",
       "      <th>607</th>\n",
       "      <td>gregg ash tree named ‘libby davidson’ a new an...</td>\n",
       "      <td>a01h005/02</td>\n",
       "      <td>[a01h005/02]</td>\n",
       "    </tr>\n",
       "    <tr>\n",
       "      <th>620</th>\n",
       "      <td>poinsettia plant named ‘q103’ a new and distin...</td>\n",
       "      <td>a01h005/02</td>\n",
       "      <td>[a01h005/02]</td>\n",
       "    </tr>\n",
       "    <tr>\n",
       "      <th>630</th>\n",
       "      <td>new guinea a new and distinct cultivar of  imp...</td>\n",
       "      <td>a01h005/02</td>\n",
       "      <td>[a01h005/02]</td>\n",
       "    </tr>\n",
       "    <tr>\n",
       "      <th>631</th>\n",
       "      <td>new guinea a new and distinct cultivar of  imp...</td>\n",
       "      <td>a01h005/02</td>\n",
       "      <td>[a01h005/02]</td>\n",
       "    </tr>\n",
       "  </tbody>\n",
       "</table>\n",
       "</div>"
      ],
      "text/plain": [
       "                                             full_text  ...      ipc_list\n",
       "600  apple tree named ‘zouk 16’ a new and distincti...  ...  [a01h005/08]\n",
       "601  apple tree named ‘duke fuji’ ‘duke fuji’ apple...  ...  [a01h005/08]\n",
       "602  sweet cherry tree named ‘ifg cher-five’ this i...  ...  [a01h005/08]\n",
       "603  mandarin tree named ‘rubygs’ ‘rubygs’ is a new...  ...  [a01h005/08]\n",
       "604  grapevine plant named ‘ifg thirty-seven’ this ...  ...  [a01h005/08]\n",
       "605  grapevine plant named ‘sugrafiftytwo’ a new an...  ...  [a01h005/08]\n",
       "607  gregg ash tree named ‘libby davidson’ a new an...  ...  [a01h005/02]\n",
       "620  poinsettia plant named ‘q103’ a new and distin...  ...  [a01h005/02]\n",
       "630  new guinea a new and distinct cultivar of  imp...  ...  [a01h005/02]\n",
       "631  new guinea a new and distinct cultivar of  imp...  ...  [a01h005/02]\n",
       "\n",
       "[10 rows x 3 columns]"
      ]
     },
     "execution_count": 12,
     "metadata": {
      "tags": []
     },
     "output_type": "execute_result"
    }
   ],
   "source": [
    "data_full.head(10)"
   ]
  },
  {
   "cell_type": "code",
   "execution_count": 13,
   "metadata": {
    "colab": {
     "base_uri": "https://localhost:8080/",
     "height": 85
    },
    "colab_type": "code",
    "id": "IcQWIKQI5p6E",
    "outputId": "3ad93d6d-8005-459a-f365-b225289a7c25"
   },
   "outputs": [
    {
     "data": {
      "text/plain": [
       "full_text    33577\n",
       "ipc          33577\n",
       "ipc_list     33577\n",
       "dtype: int64"
      ]
     },
     "execution_count": 13,
     "metadata": {
      "tags": []
     },
     "output_type": "execute_result"
    }
   ],
   "source": [
    "data_full.count()"
   ]
  },
  {
   "cell_type": "code",
   "execution_count": 14,
   "metadata": {
    "colab": {
     "base_uri": "https://localhost:8080/",
     "height": 204
    },
    "colab_type": "code",
    "id": "VPvWyLiC5p6J",
    "outputId": "17e850e7-c0c5-41b2-a866-5fc0911c006e"
   },
   "outputs": [
    {
     "data": {
      "text/plain": [
       "600    [a01h005/08]\n",
       "601    [a01h005/08]\n",
       "602    [a01h005/08]\n",
       "603    [a01h005/08]\n",
       "604    [a01h005/08]\n",
       "605    [a01h005/08]\n",
       "607    [a01h005/02]\n",
       "620    [a01h005/02]\n",
       "630    [a01h005/02]\n",
       "631    [a01h005/02]\n",
       "Name: ipc_list, dtype: object"
      ]
     },
     "execution_count": 14,
     "metadata": {
      "tags": []
     },
     "output_type": "execute_result"
    }
   ],
   "source": [
    "data_full['ipc_list'].head(10)"
   ]
  },
  {
   "cell_type": "code",
   "execution_count": 15,
   "metadata": {
    "colab": {
     "base_uri": "https://localhost:8080/",
     "height": 34
    },
    "colab_type": "code",
    "id": "wAYzeF2r5p6M",
    "outputId": "c562f909-1d1b-4b23-bbfa-784a340c22cb"
   },
   "outputs": [
    {
     "name": "stdout",
     "output_type": "stream",
     "text": [
      "(33577, 3)\n"
     ]
    }
   ],
   "source": [
    "print(data_full.shape)"
   ]
  },
  {
   "cell_type": "code",
   "execution_count": 0,
   "metadata": {
    "colab": {},
    "colab_type": "code",
    "id": "RYd7IkMN5p6P",
    "scrolled": true
   },
   "outputs": [],
   "source": [
    "mlb = preprocessing.MultiLabelBinarizer()\n",
    "ipc_l = mlb.fit_transform(data_full['ipc_list'])\n",
    "\n",
    "y_classes = mlb.classes_"
   ]
  },
  {
   "cell_type": "code",
   "execution_count": 17,
   "metadata": {
    "colab": {
     "base_uri": "https://localhost:8080/",
     "height": 51
    },
    "colab_type": "code",
    "id": "sNUSYeoO5p6S",
    "outputId": "9eded758-9e8a-46e0-da6a-79e205ab80ec"
   },
   "outputs": [
    {
     "name": "stdout",
     "output_type": "stream",
     "text": [
      "['a01b019/00' 'a01b023/06' 'a01b037/00' ... 'h05k013/02' 'h05k013/04'\n",
      " 'h05k013/08']\n"
     ]
    }
   ],
   "source": [
    "print(y_classes)"
   ]
  },
  {
   "cell_type": "code",
   "execution_count": 18,
   "metadata": {
    "colab": {
     "base_uri": "https://localhost:8080/",
     "height": 253
    },
    "colab_type": "code",
    "id": "W1UBn5z15p6V",
    "outputId": "d661c143-9a03-472b-e5b5-67d9f0c3f4cd"
   },
   "outputs": [
    {
     "data": {
      "text/html": [
       "<div>\n",
       "<style scoped>\n",
       "    .dataframe tbody tr th:only-of-type {\n",
       "        vertical-align: middle;\n",
       "    }\n",
       "\n",
       "    .dataframe tbody tr th {\n",
       "        vertical-align: top;\n",
       "    }\n",
       "\n",
       "    .dataframe thead th {\n",
       "        text-align: right;\n",
       "    }\n",
       "</style>\n",
       "<table border=\"1\" class=\"dataframe\">\n",
       "  <thead>\n",
       "    <tr style=\"text-align: right;\">\n",
       "      <th></th>\n",
       "      <th>a01b019/00</th>\n",
       "      <th>a01b023/06</th>\n",
       "      <th>a01b037/00</th>\n",
       "      <th>a01b059/06</th>\n",
       "      <th>a01b061/04</th>\n",
       "      <th>a01b063/111</th>\n",
       "      <th>a01b063/24</th>\n",
       "      <th>a01b063/32</th>\n",
       "      <th>a01b069/00</th>\n",
       "      <th>a01b071/06</th>\n",
       "      <th>a01b079/00</th>\n",
       "      <th>a01c001/02</th>\n",
       "      <th>a01c001/06</th>\n",
       "      <th>a01c005/06</th>\n",
       "      <th>a01c007/02</th>\n",
       "      <th>a01c007/04</th>\n",
       "      <th>a01c007/06</th>\n",
       "      <th>a01c007/08</th>\n",
       "      <th>a01c007/10</th>\n",
       "      <th>a01c011/02</th>\n",
       "      <th>a01c015/04</th>\n",
       "      <th>a01c023/00</th>\n",
       "      <th>a01c023/04</th>\n",
       "      <th>a01d027/00</th>\n",
       "      <th>a01d034/00</th>\n",
       "      <th>a01d034/135</th>\n",
       "      <th>a01d034/18</th>\n",
       "      <th>a01d034/416</th>\n",
       "      <th>a01d034/47</th>\n",
       "      <th>a01d034/73</th>\n",
       "      <th>a01d034/78</th>\n",
       "      <th>a01d034/81</th>\n",
       "      <th>a01d041/12</th>\n",
       "      <th>a01d041/127</th>\n",
       "      <th>a01d041/14</th>\n",
       "      <th>a01d045/10</th>\n",
       "      <th>a01d045/30</th>\n",
       "      <th>a01d046/26</th>\n",
       "      <th>a01d047/00</th>\n",
       "      <th>a01d057/02</th>\n",
       "      <th>...</th>\n",
       "      <th>h05h007/02</th>\n",
       "      <th>h05h007/04</th>\n",
       "      <th>h05h009/02</th>\n",
       "      <th>h05k001/00</th>\n",
       "      <th>h05k001/02</th>\n",
       "      <th>h05k001/03</th>\n",
       "      <th>h05k001/09</th>\n",
       "      <th>h05k001/11</th>\n",
       "      <th>h05k001/14</th>\n",
       "      <th>h05k001/16</th>\n",
       "      <th>h05k001/18</th>\n",
       "      <th>h05k003/00</th>\n",
       "      <th>h05k003/02</th>\n",
       "      <th>h05k003/10</th>\n",
       "      <th>h05k003/24</th>\n",
       "      <th>h05k003/28</th>\n",
       "      <th>h05k003/30</th>\n",
       "      <th>h05k003/32</th>\n",
       "      <th>h05k003/34</th>\n",
       "      <th>h05k003/36</th>\n",
       "      <th>h05k003/38</th>\n",
       "      <th>h05k003/40</th>\n",
       "      <th>h05k003/42</th>\n",
       "      <th>h05k003/46</th>\n",
       "      <th>h05k005/00</th>\n",
       "      <th>h05k005/02</th>\n",
       "      <th>h05k005/03</th>\n",
       "      <th>h05k005/06</th>\n",
       "      <th>h05k007/00</th>\n",
       "      <th>h05k007/02</th>\n",
       "      <th>h05k007/04</th>\n",
       "      <th>h05k007/10</th>\n",
       "      <th>h05k007/14</th>\n",
       "      <th>h05k007/18</th>\n",
       "      <th>h05k007/20</th>\n",
       "      <th>h05k009/00</th>\n",
       "      <th>h05k013/00</th>\n",
       "      <th>h05k013/02</th>\n",
       "      <th>h05k013/04</th>\n",
       "      <th>h05k013/08</th>\n",
       "    </tr>\n",
       "  </thead>\n",
       "  <tbody>\n",
       "    <tr>\n",
       "      <th>0</th>\n",
       "      <td>0</td>\n",
       "      <td>0</td>\n",
       "      <td>0</td>\n",
       "      <td>0</td>\n",
       "      <td>0</td>\n",
       "      <td>0</td>\n",
       "      <td>0</td>\n",
       "      <td>0</td>\n",
       "      <td>0</td>\n",
       "      <td>0</td>\n",
       "      <td>0</td>\n",
       "      <td>0</td>\n",
       "      <td>0</td>\n",
       "      <td>0</td>\n",
       "      <td>0</td>\n",
       "      <td>0</td>\n",
       "      <td>0</td>\n",
       "      <td>0</td>\n",
       "      <td>0</td>\n",
       "      <td>0</td>\n",
       "      <td>0</td>\n",
       "      <td>0</td>\n",
       "      <td>0</td>\n",
       "      <td>0</td>\n",
       "      <td>0</td>\n",
       "      <td>0</td>\n",
       "      <td>0</td>\n",
       "      <td>0</td>\n",
       "      <td>0</td>\n",
       "      <td>0</td>\n",
       "      <td>0</td>\n",
       "      <td>0</td>\n",
       "      <td>0</td>\n",
       "      <td>0</td>\n",
       "      <td>0</td>\n",
       "      <td>0</td>\n",
       "      <td>0</td>\n",
       "      <td>0</td>\n",
       "      <td>0</td>\n",
       "      <td>0</td>\n",
       "      <td>...</td>\n",
       "      <td>0</td>\n",
       "      <td>0</td>\n",
       "      <td>0</td>\n",
       "      <td>0</td>\n",
       "      <td>0</td>\n",
       "      <td>0</td>\n",
       "      <td>0</td>\n",
       "      <td>0</td>\n",
       "      <td>0</td>\n",
       "      <td>0</td>\n",
       "      <td>0</td>\n",
       "      <td>0</td>\n",
       "      <td>0</td>\n",
       "      <td>0</td>\n",
       "      <td>0</td>\n",
       "      <td>0</td>\n",
       "      <td>0</td>\n",
       "      <td>0</td>\n",
       "      <td>0</td>\n",
       "      <td>0</td>\n",
       "      <td>0</td>\n",
       "      <td>0</td>\n",
       "      <td>0</td>\n",
       "      <td>0</td>\n",
       "      <td>0</td>\n",
       "      <td>0</td>\n",
       "      <td>0</td>\n",
       "      <td>0</td>\n",
       "      <td>0</td>\n",
       "      <td>0</td>\n",
       "      <td>0</td>\n",
       "      <td>0</td>\n",
       "      <td>0</td>\n",
       "      <td>0</td>\n",
       "      <td>0</td>\n",
       "      <td>0</td>\n",
       "      <td>0</td>\n",
       "      <td>0</td>\n",
       "      <td>0</td>\n",
       "      <td>0</td>\n",
       "    </tr>\n",
       "    <tr>\n",
       "      <th>1</th>\n",
       "      <td>0</td>\n",
       "      <td>0</td>\n",
       "      <td>0</td>\n",
       "      <td>0</td>\n",
       "      <td>0</td>\n",
       "      <td>0</td>\n",
       "      <td>0</td>\n",
       "      <td>0</td>\n",
       "      <td>0</td>\n",
       "      <td>0</td>\n",
       "      <td>0</td>\n",
       "      <td>0</td>\n",
       "      <td>0</td>\n",
       "      <td>0</td>\n",
       "      <td>0</td>\n",
       "      <td>0</td>\n",
       "      <td>0</td>\n",
       "      <td>0</td>\n",
       "      <td>0</td>\n",
       "      <td>0</td>\n",
       "      <td>0</td>\n",
       "      <td>0</td>\n",
       "      <td>0</td>\n",
       "      <td>0</td>\n",
       "      <td>0</td>\n",
       "      <td>0</td>\n",
       "      <td>0</td>\n",
       "      <td>0</td>\n",
       "      <td>0</td>\n",
       "      <td>0</td>\n",
       "      <td>0</td>\n",
       "      <td>0</td>\n",
       "      <td>0</td>\n",
       "      <td>0</td>\n",
       "      <td>0</td>\n",
       "      <td>0</td>\n",
       "      <td>0</td>\n",
       "      <td>0</td>\n",
       "      <td>0</td>\n",
       "      <td>0</td>\n",
       "      <td>...</td>\n",
       "      <td>0</td>\n",
       "      <td>0</td>\n",
       "      <td>0</td>\n",
       "      <td>0</td>\n",
       "      <td>0</td>\n",
       "      <td>0</td>\n",
       "      <td>0</td>\n",
       "      <td>0</td>\n",
       "      <td>0</td>\n",
       "      <td>0</td>\n",
       "      <td>0</td>\n",
       "      <td>0</td>\n",
       "      <td>0</td>\n",
       "      <td>0</td>\n",
       "      <td>0</td>\n",
       "      <td>0</td>\n",
       "      <td>0</td>\n",
       "      <td>0</td>\n",
       "      <td>0</td>\n",
       "      <td>0</td>\n",
       "      <td>0</td>\n",
       "      <td>0</td>\n",
       "      <td>0</td>\n",
       "      <td>0</td>\n",
       "      <td>0</td>\n",
       "      <td>0</td>\n",
       "      <td>0</td>\n",
       "      <td>0</td>\n",
       "      <td>0</td>\n",
       "      <td>0</td>\n",
       "      <td>0</td>\n",
       "      <td>0</td>\n",
       "      <td>0</td>\n",
       "      <td>0</td>\n",
       "      <td>0</td>\n",
       "      <td>0</td>\n",
       "      <td>0</td>\n",
       "      <td>0</td>\n",
       "      <td>0</td>\n",
       "      <td>0</td>\n",
       "    </tr>\n",
       "    <tr>\n",
       "      <th>2</th>\n",
       "      <td>0</td>\n",
       "      <td>0</td>\n",
       "      <td>0</td>\n",
       "      <td>0</td>\n",
       "      <td>0</td>\n",
       "      <td>0</td>\n",
       "      <td>0</td>\n",
       "      <td>0</td>\n",
       "      <td>0</td>\n",
       "      <td>0</td>\n",
       "      <td>0</td>\n",
       "      <td>0</td>\n",
       "      <td>0</td>\n",
       "      <td>0</td>\n",
       "      <td>0</td>\n",
       "      <td>0</td>\n",
       "      <td>0</td>\n",
       "      <td>0</td>\n",
       "      <td>0</td>\n",
       "      <td>0</td>\n",
       "      <td>0</td>\n",
       "      <td>0</td>\n",
       "      <td>0</td>\n",
       "      <td>0</td>\n",
       "      <td>0</td>\n",
       "      <td>0</td>\n",
       "      <td>0</td>\n",
       "      <td>0</td>\n",
       "      <td>0</td>\n",
       "      <td>0</td>\n",
       "      <td>0</td>\n",
       "      <td>0</td>\n",
       "      <td>0</td>\n",
       "      <td>0</td>\n",
       "      <td>0</td>\n",
       "      <td>0</td>\n",
       "      <td>0</td>\n",
       "      <td>0</td>\n",
       "      <td>0</td>\n",
       "      <td>0</td>\n",
       "      <td>...</td>\n",
       "      <td>0</td>\n",
       "      <td>0</td>\n",
       "      <td>0</td>\n",
       "      <td>0</td>\n",
       "      <td>0</td>\n",
       "      <td>0</td>\n",
       "      <td>0</td>\n",
       "      <td>0</td>\n",
       "      <td>0</td>\n",
       "      <td>0</td>\n",
       "      <td>0</td>\n",
       "      <td>0</td>\n",
       "      <td>0</td>\n",
       "      <td>0</td>\n",
       "      <td>0</td>\n",
       "      <td>0</td>\n",
       "      <td>0</td>\n",
       "      <td>0</td>\n",
       "      <td>0</td>\n",
       "      <td>0</td>\n",
       "      <td>0</td>\n",
       "      <td>0</td>\n",
       "      <td>0</td>\n",
       "      <td>0</td>\n",
       "      <td>0</td>\n",
       "      <td>0</td>\n",
       "      <td>0</td>\n",
       "      <td>0</td>\n",
       "      <td>0</td>\n",
       "      <td>0</td>\n",
       "      <td>0</td>\n",
       "      <td>0</td>\n",
       "      <td>0</td>\n",
       "      <td>0</td>\n",
       "      <td>0</td>\n",
       "      <td>0</td>\n",
       "      <td>0</td>\n",
       "      <td>0</td>\n",
       "      <td>0</td>\n",
       "      <td>0</td>\n",
       "    </tr>\n",
       "    <tr>\n",
       "      <th>3</th>\n",
       "      <td>0</td>\n",
       "      <td>0</td>\n",
       "      <td>0</td>\n",
       "      <td>0</td>\n",
       "      <td>0</td>\n",
       "      <td>0</td>\n",
       "      <td>0</td>\n",
       "      <td>0</td>\n",
       "      <td>0</td>\n",
       "      <td>0</td>\n",
       "      <td>0</td>\n",
       "      <td>0</td>\n",
       "      <td>0</td>\n",
       "      <td>0</td>\n",
       "      <td>0</td>\n",
       "      <td>0</td>\n",
       "      <td>0</td>\n",
       "      <td>0</td>\n",
       "      <td>0</td>\n",
       "      <td>0</td>\n",
       "      <td>0</td>\n",
       "      <td>0</td>\n",
       "      <td>0</td>\n",
       "      <td>0</td>\n",
       "      <td>0</td>\n",
       "      <td>0</td>\n",
       "      <td>0</td>\n",
       "      <td>0</td>\n",
       "      <td>0</td>\n",
       "      <td>0</td>\n",
       "      <td>0</td>\n",
       "      <td>0</td>\n",
       "      <td>0</td>\n",
       "      <td>0</td>\n",
       "      <td>0</td>\n",
       "      <td>0</td>\n",
       "      <td>0</td>\n",
       "      <td>0</td>\n",
       "      <td>0</td>\n",
       "      <td>0</td>\n",
       "      <td>...</td>\n",
       "      <td>0</td>\n",
       "      <td>0</td>\n",
       "      <td>0</td>\n",
       "      <td>0</td>\n",
       "      <td>0</td>\n",
       "      <td>0</td>\n",
       "      <td>0</td>\n",
       "      <td>0</td>\n",
       "      <td>0</td>\n",
       "      <td>0</td>\n",
       "      <td>0</td>\n",
       "      <td>0</td>\n",
       "      <td>0</td>\n",
       "      <td>0</td>\n",
       "      <td>0</td>\n",
       "      <td>0</td>\n",
       "      <td>0</td>\n",
       "      <td>0</td>\n",
       "      <td>0</td>\n",
       "      <td>0</td>\n",
       "      <td>0</td>\n",
       "      <td>0</td>\n",
       "      <td>0</td>\n",
       "      <td>0</td>\n",
       "      <td>0</td>\n",
       "      <td>0</td>\n",
       "      <td>0</td>\n",
       "      <td>0</td>\n",
       "      <td>0</td>\n",
       "      <td>0</td>\n",
       "      <td>0</td>\n",
       "      <td>0</td>\n",
       "      <td>0</td>\n",
       "      <td>0</td>\n",
       "      <td>0</td>\n",
       "      <td>0</td>\n",
       "      <td>0</td>\n",
       "      <td>0</td>\n",
       "      <td>0</td>\n",
       "      <td>0</td>\n",
       "    </tr>\n",
       "    <tr>\n",
       "      <th>4</th>\n",
       "      <td>0</td>\n",
       "      <td>0</td>\n",
       "      <td>0</td>\n",
       "      <td>0</td>\n",
       "      <td>0</td>\n",
       "      <td>0</td>\n",
       "      <td>0</td>\n",
       "      <td>0</td>\n",
       "      <td>0</td>\n",
       "      <td>0</td>\n",
       "      <td>0</td>\n",
       "      <td>0</td>\n",
       "      <td>0</td>\n",
       "      <td>0</td>\n",
       "      <td>0</td>\n",
       "      <td>0</td>\n",
       "      <td>0</td>\n",
       "      <td>0</td>\n",
       "      <td>0</td>\n",
       "      <td>0</td>\n",
       "      <td>0</td>\n",
       "      <td>0</td>\n",
       "      <td>0</td>\n",
       "      <td>0</td>\n",
       "      <td>0</td>\n",
       "      <td>0</td>\n",
       "      <td>0</td>\n",
       "      <td>0</td>\n",
       "      <td>0</td>\n",
       "      <td>0</td>\n",
       "      <td>0</td>\n",
       "      <td>0</td>\n",
       "      <td>0</td>\n",
       "      <td>0</td>\n",
       "      <td>0</td>\n",
       "      <td>0</td>\n",
       "      <td>0</td>\n",
       "      <td>0</td>\n",
       "      <td>0</td>\n",
       "      <td>0</td>\n",
       "      <td>...</td>\n",
       "      <td>0</td>\n",
       "      <td>0</td>\n",
       "      <td>0</td>\n",
       "      <td>0</td>\n",
       "      <td>0</td>\n",
       "      <td>0</td>\n",
       "      <td>0</td>\n",
       "      <td>0</td>\n",
       "      <td>0</td>\n",
       "      <td>0</td>\n",
       "      <td>0</td>\n",
       "      <td>0</td>\n",
       "      <td>0</td>\n",
       "      <td>0</td>\n",
       "      <td>0</td>\n",
       "      <td>0</td>\n",
       "      <td>0</td>\n",
       "      <td>0</td>\n",
       "      <td>0</td>\n",
       "      <td>0</td>\n",
       "      <td>0</td>\n",
       "      <td>0</td>\n",
       "      <td>0</td>\n",
       "      <td>0</td>\n",
       "      <td>0</td>\n",
       "      <td>0</td>\n",
       "      <td>0</td>\n",
       "      <td>0</td>\n",
       "      <td>0</td>\n",
       "      <td>0</td>\n",
       "      <td>0</td>\n",
       "      <td>0</td>\n",
       "      <td>0</td>\n",
       "      <td>0</td>\n",
       "      <td>0</td>\n",
       "      <td>0</td>\n",
       "      <td>0</td>\n",
       "      <td>0</td>\n",
       "      <td>0</td>\n",
       "      <td>0</td>\n",
       "    </tr>\n",
       "  </tbody>\n",
       "</table>\n",
       "<p>5 rows × 11074 columns</p>\n",
       "</div>"
      ],
      "text/plain": [
       "   a01b019/00  a01b023/06  a01b037/00  ...  h05k013/02  h05k013/04  h05k013/08\n",
       "0           0           0           0  ...           0           0           0\n",
       "1           0           0           0  ...           0           0           0\n",
       "2           0           0           0  ...           0           0           0\n",
       "3           0           0           0  ...           0           0           0\n",
       "4           0           0           0  ...           0           0           0\n",
       "\n",
       "[5 rows x 11074 columns]"
      ]
     },
     "execution_count": 18,
     "metadata": {
      "tags": []
     },
     "output_type": "execute_result"
    }
   ],
   "source": [
    "ipc_df = pd.DataFrame(ipc_l, columns=mlb.classes_)\n",
    "ipc_df.head()"
   ]
  },
  {
   "cell_type": "code",
   "execution_count": 19,
   "metadata": {
    "colab": {
     "base_uri": "https://localhost:8080/",
     "height": 34
    },
    "colab_type": "code",
    "id": "O0hSNfW75p6Y",
    "outputId": "275cd1e3-dd63-4152-ed78-ba63de601317"
   },
   "outputs": [
    {
     "data": {
      "text/plain": [
       "(33577, 11074)"
      ]
     },
     "execution_count": 19,
     "metadata": {
      "tags": []
     },
     "output_type": "execute_result"
    }
   ],
   "source": [
    "ipc_df.shape"
   ]
  },
  {
   "cell_type": "code",
   "execution_count": 20,
   "metadata": {
    "colab": {
     "base_uri": "https://localhost:8080/",
     "height": 34
    },
    "colab_type": "code",
    "id": "DLPZIS4E5p6f",
    "outputId": "59dea09a-ad0d-485e-b131-1695c53020ee"
   },
   "outputs": [
    {
     "name": "stdout",
     "output_type": "stream",
     "text": [
      "Overall 11074 patent classes\n"
     ]
    }
   ],
   "source": [
    "print(\"Overall {} patent classes\".format(len(mlb.classes_)))"
   ]
  },
  {
   "cell_type": "code",
   "execution_count": 21,
   "metadata": {
    "colab": {
     "base_uri": "https://localhost:8080/",
     "height": 204
    },
    "colab_type": "code",
    "id": "MWtTUywz5p6k",
    "outputId": "59e21516-bdd7-4928-a9b4-dad967a870d4"
   },
   "outputs": [
    {
     "data": {
      "text/plain": [
       "600    apple tree named ‘zouk 16’ a new and distincti...\n",
       "601    apple tree named ‘duke fuji’ ‘duke fuji’ apple...\n",
       "602    sweet cherry tree named ‘ifg cher-five’ this i...\n",
       "603    mandarin tree named ‘rubygs’ ‘rubygs’ is a new...\n",
       "604    grapevine plant named ‘ifg thirty-seven’ this ...\n",
       "605    grapevine plant named ‘sugrafiftytwo’ a new an...\n",
       "607    gregg ash tree named ‘libby davidson’ a new an...\n",
       "620    poinsettia plant named ‘q103’ a new and distin...\n",
       "630    new guinea a new and distinct cultivar of  imp...\n",
       "631    new guinea a new and distinct cultivar of  imp...\n",
       "Name: full_text, dtype: object"
      ]
     },
     "execution_count": 21,
     "metadata": {
      "tags": []
     },
     "output_type": "execute_result"
    }
   ],
   "source": [
    "data_full['full_text'].head(10)"
   ]
  },
  {
   "cell_type": "code",
   "execution_count": 22,
   "metadata": {
    "colab": {
     "base_uri": "https://localhost:8080/",
     "height": 204
    },
    "colab_type": "code",
    "id": "D0gwy_AO5p6n",
    "outputId": "e9650541-3053-4f0d-800f-a503b91fc78f"
   },
   "outputs": [
    {
     "data": {
      "text/plain": [
       "600    apple tree named zouk 16 a new and distinctive...\n",
       "601    apple tree named duke fuji duke fuji apple tre...\n",
       "602    sweet cherry tree named ifg cherfive this inve...\n",
       "603    mandarin tree named rubygs rubygs is a new and...\n",
       "604    grapevine plant named ifg thirtyseven this inv...\n",
       "605    grapevine plant named sugrafiftytwo a new and ...\n",
       "607    gregg ash tree named libby davidson a new and ...\n",
       "620    poinsettia plant named q103 a new and distinct...\n",
       "630    new guinea a new and distinct cultivar of  imp...\n",
       "631    new guinea a new and distinct cultivar of  imp...\n",
       "Name: full_text_proc, dtype: object"
      ]
     },
     "execution_count": 22,
     "metadata": {
      "tags": []
     },
     "output_type": "execute_result"
    }
   ],
   "source": [
    "# removing punctuation \n",
    "data_full['full_text_proc'] = data_full['full_text'].str.replace('[^\\w\\s]','')\n",
    "data_full['full_text_proc'].head(10)"
   ]
  },
  {
   "cell_type": "code",
   "execution_count": 23,
   "metadata": {
    "colab": {
     "base_uri": "https://localhost:8080/",
     "height": 204
    },
    "colab_type": "code",
    "id": "-8cSdMrl5p6q",
    "outputId": "2992c02b-f434-4cfe-c16f-1ba7a95ac030"
   },
   "outputs": [
    {
     "data": {
      "text/plain": [
       "600    apple tree named zouk 16 a new and distinctive...\n",
       "601    apple tree named duke fuji duke fuji apple tre...\n",
       "602    sweet cherry tree named ifg cherfive this inve...\n",
       "603    mandarin tree named rubygs rubygs is a new and...\n",
       "604    grapevine plant named ifg thirtyseven this inv...\n",
       "605    grapevine plant named sugrafiftytwo a new and ...\n",
       "607    gregg ash tree named libby davidson a new and ...\n",
       "620    poinsettia plant named q103 a new and distinct...\n",
       "630    new guinea a new and distinct cultivar of impa...\n",
       "631    new guinea a new and distinct cultivar of impa...\n",
       "Name: full_text_proc, dtype: object"
      ]
     },
     "execution_count": 23,
     "metadata": {
      "tags": []
     },
     "output_type": "execute_result"
    }
   ],
   "source": [
    "# lower - casing \n",
    "data_full['full_text_proc'] = data_full['full_text_proc'].apply(lambda x: \" \".join(x.lower() for x in x.split()))\n",
    "data_full['full_text_proc'].head(10)"
   ]
  },
  {
   "cell_type": "code",
   "execution_count": 24,
   "metadata": {
    "colab": {
     "base_uri": "https://localhost:8080/",
     "height": 204
    },
    "colab_type": "code",
    "id": "bqsrfgW35p6s",
    "outputId": "bb15a140-c14a-4c5d-fcdc-469e599e9d2c"
   },
   "outputs": [
    {
     "data": {
      "text/plain": [
       "the      325344\n",
       "a        253613\n",
       "of       144560\n",
       "and      131401\n",
       "to       104683\n",
       "in        55880\n",
       "is        54825\n",
       "an        53839\n",
       "for       52904\n",
       "first     39488\n",
       "dtype: int64"
      ]
     },
     "execution_count": 24,
     "metadata": {
      "tags": []
     },
     "output_type": "execute_result"
    }
   ],
   "source": [
    "# The most common words\n",
    "freq_words = pd.Series(' '.join(data_full['full_text_proc']).split()).value_counts()[:10]  \n",
    "freq_words"
   ]
  },
  {
   "cell_type": "code",
   "execution_count": 25,
   "metadata": {
    "colab": {
     "base_uri": "https://localhost:8080/",
     "height": 204
    },
    "colab_type": "code",
    "id": "r_46rQhM5p6v",
    "outputId": "1b92d27f-960d-4e0c-a6cc-39880154130f"
   },
   "outputs": [
    {
     "data": {
      "text/plain": [
       "prediluted         1\n",
       "localities         1\n",
       "finalize           1\n",
       "gateside           1\n",
       "teratomas          1\n",
       "powerelectronic    1\n",
       "moderatelylow      1\n",
       "yx                 1\n",
       "desoldering        1\n",
       "boast              1\n",
       "dtype: int64"
      ]
     },
     "execution_count": 25,
     "metadata": {
      "tags": []
     },
     "output_type": "execute_result"
    }
   ],
   "source": [
    "#The most rare words\n",
    "rare_words = pd.Series(' '.join(data_full['full_text_proc']).split()).value_counts()[-10:]\n",
    "rare_words"
   ]
  },
  {
   "cell_type": "code",
   "execution_count": 26,
   "metadata": {
    "colab": {
     "base_uri": "https://localhost:8080/",
     "height": 204
    },
    "colab_type": "code",
    "id": "6qqL2OSC5p6y",
    "outputId": "0cf4e921-fef0-4820-88ed-28822ba2443b"
   },
   "outputs": [
    {
     "data": {
      "text/plain": [
       "600    apple tree named zouk  a new and distinctive v...\n",
       "601    apple tree named duke fuji duke fuji apple tre...\n",
       "602    sweet cherry tree named ifg cherfive this inve...\n",
       "603    mandarin tree named rubygs rubygs is a new and...\n",
       "604    grapevine plant named ifg thirtyseven this inv...\n",
       "605    grapevine plant named sugrafiftytwo a new and ...\n",
       "607    gregg ash tree named libby davidson a new and ...\n",
       "620    poinsettia plant named q a new and distinct cu...\n",
       "630    new guinea a new and distinct cultivar of impa...\n",
       "631    new guinea a new and distinct cultivar of impa...\n",
       "Name: full_text_proc, dtype: object"
      ]
     },
     "execution_count": 26,
     "metadata": {
      "tags": []
     },
     "output_type": "execute_result"
    }
   ],
   "source": [
    "# Remove Digits\n",
    "data_full['full_text_proc'] = data_full['full_text_proc'].apply(lambda x : re.sub(\"\\d+\", \"\", x))\n",
    "data_full['full_text_proc'].head(10)"
   ]
  },
  {
   "cell_type": "code",
   "execution_count": 27,
   "metadata": {
    "colab": {
     "base_uri": "https://localhost:8080/",
     "height": 238
    },
    "colab_type": "code",
    "id": "N1LNvTeK5p61",
    "outputId": "8ee52b69-b601-4529-e470-d35d43d9bb12"
   },
   "outputs": [
    {
     "name": "stdout",
     "output_type": "stream",
     "text": [
      "[nltk_data] Downloading package stopwords to /root/nltk_data...\n",
      "[nltk_data]   Unzipping corpora/stopwords.zip.\n"
     ]
    },
    {
     "data": {
      "text/plain": [
       "600    apple tree named zouk new distinctive variety ...\n",
       "601    apple tree named duke fuji duke fuji apple tre...\n",
       "602    sweet cherry tree named ifg cherfive invention...\n",
       "603    mandarin tree named rubygs rubygs new distinct...\n",
       "604    grapevine plant named ifg thirtyseven inventio...\n",
       "605    grapevine plant named sugrafiftytwo new distin...\n",
       "607    gregg ash tree named libby davidson new distin...\n",
       "620    poinsettia plant named q new distinct cultivar...\n",
       "630    new guinea new distinct cultivar impatiens pla...\n",
       "631    new guinea new distinct cultivar impatiens pla...\n",
       "Name: full_text_proc, dtype: object"
      ]
     },
     "execution_count": 27,
     "metadata": {
      "tags": []
     },
     "output_type": "execute_result"
    }
   ],
   "source": [
    "# Removing stop words (the,a,with,of,and...)\n",
    "\n",
    "nltk.download('stopwords')\n",
    "stop = nltk.corpus.stopwords.words('english')\n",
    "pattern_stop = r'\\b(?:{})\\b'.format('|'.join(stop))\n",
    "data_full['full_text_proc_no_stop'] = data_full['full_text_proc'].str.replace(pattern_stop, '')\n",
    "data_full['full_text_proc_no_stop'] = data_full['full_text_proc_no_stop'].str.replace(r'\\s+', ' ')\n",
    "data_full['full_text_proc'] = data_full['full_text_proc_no_stop']\n",
    "data_full['full_text_proc'].head(10)"
   ]
  },
  {
   "cell_type": "code",
   "execution_count": 28,
   "metadata": {
    "colab": {
     "base_uri": "https://localhost:8080/",
     "height": 204
    },
    "colab_type": "code",
    "id": "DyJx-MVe5p63",
    "outputId": "46114d00-4070-41a7-db33-d254f6a90c8d"
   },
   "outputs": [
    {
     "data": {
      "text/plain": [
       "first       39488\n",
       "device      28886\n",
       "second      28579\n",
       "one         24689\n",
       "method      23921\n",
       "includes    22748\n",
       "system      21464\n",
       "data        18387\n",
       "least       16077\n",
       "may         14616\n",
       "dtype: int64"
      ]
     },
     "execution_count": 28,
     "metadata": {
      "tags": []
     },
     "output_type": "execute_result"
    }
   ],
   "source": [
    "#check again the most common words\n",
    "freq_words = pd.Series(' '.join(data_full['full_text_proc']).split()).value_counts()[:10] # chose the number here \n",
    "freq_words"
   ]
  },
  {
   "cell_type": "code",
   "execution_count": 29,
   "metadata": {
    "colab": {
     "base_uri": "https://localhost:8080/",
     "height": 238
    },
    "colab_type": "code",
    "id": "YWNjWAIf5p6-",
    "outputId": "6e0341ad-9313-476e-9edb-5d119d1c7848"
   },
   "outputs": [
    {
     "name": "stdout",
     "output_type": "stream",
     "text": [
      "[nltk_data] Downloading package wordnet to /root/nltk_data...\n",
      "[nltk_data]   Unzipping corpora/wordnet.zip.\n"
     ]
    },
    {
     "data": {
      "text/plain": [
       "600    apple tree named zouk new distinctive variety ...\n",
       "601    apple tree named duke fuji duke fuji apple tre...\n",
       "602    sweet cherry tree named ifg cherfive invention...\n",
       "603    mandarin tree named rubygs rubygs new distinct...\n",
       "604    grapevine plant named ifg thirtyseven inventio...\n",
       "605    grapevine plant named sugrafiftytwo new distin...\n",
       "607    gregg ash tree named libby davidson new distin...\n",
       "620    poinsettia plant named q new distinct cultivar...\n",
       "630    new guinea new distinct cultivar impatiens pla...\n",
       "631    new guinea new distinct cultivar impatiens pla...\n",
       "Name: full_text_proc, dtype: object"
      ]
     },
     "execution_count": 29,
     "metadata": {
      "tags": []
     },
     "output_type": "execute_result"
    }
   ],
   "source": [
    "# Lemmatization\n",
    "nltk.download('wordnet')\n",
    "\n",
    "from textblob import Word\n",
    "data_full['full_text_proc'] = data_full['full_text_proc'].apply(lambda x: \" \".join([Word(word).lemmatize() for word in x.split()]))\n",
    "data_full['full_text_proc'].head(10)"
   ]
  },
  {
   "cell_type": "code",
   "execution_count": 0,
   "metadata": {
    "colab": {},
    "colab_type": "code",
    "id": "mC7XQH-Z5p7G"
   },
   "outputs": [],
   "source": [
    "max_length = 600\n",
    "col_names =  ['i','top_words']\n",
    "data_tfidf  = pd.DataFrame(columns = col_names)"
   ]
  },
  {
   "cell_type": "code",
   "execution_count": 31,
   "metadata": {
    "colab": {
     "base_uri": "https://localhost:8080/",
     "height": 119
    },
    "colab_type": "code",
    "id": "vxESHVYQ5p7I",
    "outputId": "79760e00-e1c5-4955-ef83-44efc93e105e"
   },
   "outputs": [
    {
     "data": {
      "text/plain": [
       "600    apple tree named zouk new distinctive variety ...\n",
       "601    apple tree named duke fuji duke fuji apple tre...\n",
       "602    sweet cherry tree named ifg cherfive invention...\n",
       "603    mandarin tree named rubygs rubygs new distinct...\n",
       "604    grapevine plant named ifg thirtyseven inventio...\n",
       "Name: full_text_proc, dtype: object"
      ]
     },
     "execution_count": 31,
     "metadata": {
      "tags": []
     },
     "output_type": "execute_result"
    }
   ],
   "source": [
    "data_full['full_text_proc'].head()"
   ]
  },
  {
   "cell_type": "code",
   "execution_count": 0,
   "metadata": {
    "colab": {},
    "colab_type": "code",
    "id": "Cgo0tRM65p7L"
   },
   "outputs": [],
   "source": [
    "tfidf = TfidfVectorizer(lowercase=True, analyzer='word', smooth_idf=False, sublinear_tf=False, norm=None,\n",
    "                        stop_words='english', ngram_range=(1,1)) \n",
    "\n",
    "text_transformed = tfidf.fit_transform(data_full['full_text_proc'])"
   ]
  },
  {
   "cell_type": "code",
   "execution_count": 33,
   "metadata": {
    "colab": {
     "base_uri": "https://localhost:8080/",
     "height": 51
    },
    "colab_type": "code",
    "id": "sRekLXt75p7N",
    "outputId": "fa5de7ca-a4f8-4ec0-a879-849374ba8459"
   },
   "outputs": [
    {
     "name": "stdout",
     "output_type": "stream",
     "text": [
      "2020-02-23 21:14:55.727238\n",
      "2020-02-23 21:17:55.182046\n"
     ]
    }
   ],
   "source": [
    "import datetime\n",
    "print(datetime.datetime.now())\n",
    "feature_names = np.array(tfidf.get_feature_names())\n",
    "\n",
    "for i in range(text_transformed.shape[0]):\n",
    "    f_index = text_transformed[i,:].nonzero()[1]\n",
    "    tfid_score = zip(f_index,[text_transformed[i,x] for x in f_index])\n",
    "    \n",
    "    word = []\n",
    "    score = []\n",
    "\n",
    "    for w,s in [(feature_names[i],s) for i,s in tfid_score]:\n",
    "        word.append(w)\n",
    "        score.append(s)\n",
    "    score = np.array(score)\n",
    "    word = np.array(word)\n",
    "    txt = \" \".join(word[(-score).argsort()[:max_length]])\n",
    "    data_tfidf.loc[len(data_tfidf)] = [i,txt]\n",
    "print(datetime.datetime.now())"
   ]
  },
  {
   "cell_type": "code",
   "execution_count": 0,
   "metadata": {
    "colab": {},
    "colab_type": "code",
    "id": "0rtFkU6R5p7T"
   },
   "outputs": [],
   "source": [
    "data_full['full_text_proc_final'] = data_tfidf.set_index(data_full.index).top_words"
   ]
  },
  {
   "cell_type": "code",
   "execution_count": 35,
   "metadata": {
    "colab": {
     "base_uri": "https://localhost:8080/",
     "height": 544
    },
    "colab_type": "code",
    "id": "baV_bKTL5p7V",
    "outputId": "720a9c83-efba-4e26-fb0f-c301eb468e6f"
   },
   "outputs": [
    {
     "data": {
      "text/html": [
       "<div>\n",
       "<style scoped>\n",
       "    .dataframe tbody tr th:only-of-type {\n",
       "        vertical-align: middle;\n",
       "    }\n",
       "\n",
       "    .dataframe tbody tr th {\n",
       "        vertical-align: top;\n",
       "    }\n",
       "\n",
       "    .dataframe thead th {\n",
       "        text-align: right;\n",
       "    }\n",
       "</style>\n",
       "<table border=\"1\" class=\"dataframe\">\n",
       "  <thead>\n",
       "    <tr style=\"text-align: right;\">\n",
       "      <th></th>\n",
       "      <th>full_text</th>\n",
       "      <th>ipc</th>\n",
       "      <th>ipc_list</th>\n",
       "      <th>full_text_proc</th>\n",
       "      <th>full_text_proc_no_stop</th>\n",
       "      <th>full_text_proc_final</th>\n",
       "    </tr>\n",
       "  </thead>\n",
       "  <tbody>\n",
       "    <tr>\n",
       "      <th>600</th>\n",
       "      <td>apple tree named ‘zouk 16’ a new and distincti...</td>\n",
       "      <td>a01h005/08</td>\n",
       "      <td>[a01h005/08]</td>\n",
       "      <td>apple tree named zouk new distinctive variety ...</td>\n",
       "      <td>apple tree named zouk new distinctive variety ...</td>\n",
       "      <td>apple zouk tree bright named wellfeathered lea...</td>\n",
       "    </tr>\n",
       "    <tr>\n",
       "      <th>601</th>\n",
       "      <td>apple tree named ‘duke fuji’ ‘duke fuji’ apple...</td>\n",
       "      <td>a01h005/08</td>\n",
       "      <td>[a01h005/08]</td>\n",
       "      <td>apple tree named duke fuji duke fuji apple tre...</td>\n",
       "      <td>apple tree named duke fuji duke fuji apple tre...</td>\n",
       "      <td>fuji duke apple tree brak notable distinctive ...</td>\n",
       "    </tr>\n",
       "    <tr>\n",
       "      <th>602</th>\n",
       "      <td>sweet cherry tree named ‘ifg cher-five’ this i...</td>\n",
       "      <td>a01h005/08</td>\n",
       "      <td>[a01h005/08]</td>\n",
       "      <td>sweet cherry tree named ifg cherfive invention...</td>\n",
       "      <td>sweet cherry tree named ifg cherfive invention...</td>\n",
       "      <td>cherry cherfive fruit ifg sweet tree induced r...</td>\n",
       "    </tr>\n",
       "    <tr>\n",
       "      <th>603</th>\n",
       "      <td>mandarin tree named ‘rubygs’ ‘rubygs’ is a new...</td>\n",
       "      <td>a01h005/08</td>\n",
       "      <td>[a01h005/08]</td>\n",
       "      <td>mandarin tree named rubygs rubygs new distinct...</td>\n",
       "      <td>mandarin tree named rubygs rubygs new distinct...</td>\n",
       "      <td>mandarin rubygs fruit tree seed daisy notable ...</td>\n",
       "    </tr>\n",
       "    <tr>\n",
       "      <th>604</th>\n",
       "      <td>grapevine plant named ‘ifg thirty-seven’ this ...</td>\n",
       "      <td>a01h005/08</td>\n",
       "      <td>[a01h005/08]</td>\n",
       "      <td>grapevine plant named ifg thirtyseven inventio...</td>\n",
       "      <td>grapevine plant named ifg thirtyseven inventio...</td>\n",
       "      <td>berry grapevine thirtyseven ifg red large vine...</td>\n",
       "    </tr>\n",
       "  </tbody>\n",
       "</table>\n",
       "</div>"
      ],
      "text/plain": [
       "                                             full_text  ...                               full_text_proc_final\n",
       "600  apple tree named ‘zouk 16’ a new and distincti...  ...  apple zouk tree bright named wellfeathered lea...\n",
       "601  apple tree named ‘duke fuji’ ‘duke fuji’ apple...  ...  fuji duke apple tree brak notable distinctive ...\n",
       "602  sweet cherry tree named ‘ifg cher-five’ this i...  ...  cherry cherfive fruit ifg sweet tree induced r...\n",
       "603  mandarin tree named ‘rubygs’ ‘rubygs’ is a new...  ...  mandarin rubygs fruit tree seed daisy notable ...\n",
       "604  grapevine plant named ‘ifg thirty-seven’ this ...  ...  berry grapevine thirtyseven ifg red large vine...\n",
       "\n",
       "[5 rows x 6 columns]"
      ]
     },
     "execution_count": 35,
     "metadata": {
      "tags": []
     },
     "output_type": "execute_result"
    }
   ],
   "source": [
    "data_full.head()"
   ]
  },
  {
   "cell_type": "markdown",
   "metadata": {
    "colab_type": "text",
    "id": "LowIU-QM83tX"
   },
   "source": [
    "**ELMO embeddings**"
   ]
  },
  {
   "cell_type": "code",
   "execution_count": 36,
   "metadata": {
    "colab": {
     "base_uri": "https://localhost:8080/",
     "height": 544
    },
    "colab_type": "code",
    "id": "sg-tbUjHkEck",
    "outputId": "a826e2ff-2ae3-4d20-c08f-fd08b0db5c7a"
   },
   "outputs": [
    {
     "data": {
      "text/html": [
       "<div>\n",
       "<style scoped>\n",
       "    .dataframe tbody tr th:only-of-type {\n",
       "        vertical-align: middle;\n",
       "    }\n",
       "\n",
       "    .dataframe tbody tr th {\n",
       "        vertical-align: top;\n",
       "    }\n",
       "\n",
       "    .dataframe thead th {\n",
       "        text-align: right;\n",
       "    }\n",
       "</style>\n",
       "<table border=\"1\" class=\"dataframe\">\n",
       "  <thead>\n",
       "    <tr style=\"text-align: right;\">\n",
       "      <th></th>\n",
       "      <th>full_text</th>\n",
       "      <th>ipc</th>\n",
       "      <th>ipc_list</th>\n",
       "      <th>full_text_proc</th>\n",
       "      <th>full_text_proc_no_stop</th>\n",
       "      <th>full_text_proc_final</th>\n",
       "    </tr>\n",
       "  </thead>\n",
       "  <tbody>\n",
       "    <tr>\n",
       "      <th>600</th>\n",
       "      <td>apple tree named ‘zouk 16’ a new and distincti...</td>\n",
       "      <td>a01h005/08</td>\n",
       "      <td>[a01h005/08]</td>\n",
       "      <td>apple tree named zouk new distinctive variety ...</td>\n",
       "      <td>apple tree named zouk new distinctive variety ...</td>\n",
       "      <td>apple zouk tree bright named wellfeathered lea...</td>\n",
       "    </tr>\n",
       "    <tr>\n",
       "      <th>601</th>\n",
       "      <td>apple tree named ‘duke fuji’ ‘duke fuji’ apple...</td>\n",
       "      <td>a01h005/08</td>\n",
       "      <td>[a01h005/08]</td>\n",
       "      <td>apple tree named duke fuji duke fuji apple tre...</td>\n",
       "      <td>apple tree named duke fuji duke fuji apple tre...</td>\n",
       "      <td>fuji duke apple tree brak notable distinctive ...</td>\n",
       "    </tr>\n",
       "    <tr>\n",
       "      <th>602</th>\n",
       "      <td>sweet cherry tree named ‘ifg cher-five’ this i...</td>\n",
       "      <td>a01h005/08</td>\n",
       "      <td>[a01h005/08]</td>\n",
       "      <td>sweet cherry tree named ifg cherfive invention...</td>\n",
       "      <td>sweet cherry tree named ifg cherfive invention...</td>\n",
       "      <td>cherry cherfive fruit ifg sweet tree induced r...</td>\n",
       "    </tr>\n",
       "    <tr>\n",
       "      <th>603</th>\n",
       "      <td>mandarin tree named ‘rubygs’ ‘rubygs’ is a new...</td>\n",
       "      <td>a01h005/08</td>\n",
       "      <td>[a01h005/08]</td>\n",
       "      <td>mandarin tree named rubygs rubygs new distinct...</td>\n",
       "      <td>mandarin tree named rubygs rubygs new distinct...</td>\n",
       "      <td>mandarin rubygs fruit tree seed daisy notable ...</td>\n",
       "    </tr>\n",
       "    <tr>\n",
       "      <th>604</th>\n",
       "      <td>grapevine plant named ‘ifg thirty-seven’ this ...</td>\n",
       "      <td>a01h005/08</td>\n",
       "      <td>[a01h005/08]</td>\n",
       "      <td>grapevine plant named ifg thirtyseven inventio...</td>\n",
       "      <td>grapevine plant named ifg thirtyseven inventio...</td>\n",
       "      <td>berry grapevine thirtyseven ifg red large vine...</td>\n",
       "    </tr>\n",
       "  </tbody>\n",
       "</table>\n",
       "</div>"
      ],
      "text/plain": [
       "                                             full_text  ...                               full_text_proc_final\n",
       "600  apple tree named ‘zouk 16’ a new and distincti...  ...  apple zouk tree bright named wellfeathered lea...\n",
       "601  apple tree named ‘duke fuji’ ‘duke fuji’ apple...  ...  fuji duke apple tree brak notable distinctive ...\n",
       "602  sweet cherry tree named ‘ifg cher-five’ this i...  ...  cherry cherfive fruit ifg sweet tree induced r...\n",
       "603  mandarin tree named ‘rubygs’ ‘rubygs’ is a new...  ...  mandarin rubygs fruit tree seed daisy notable ...\n",
       "604  grapevine plant named ‘ifg thirty-seven’ this ...  ...  berry grapevine thirtyseven ifg red large vine...\n",
       "\n",
       "[5 rows x 6 columns]"
      ]
     },
     "execution_count": 36,
     "metadata": {
      "tags": []
     },
     "output_type": "execute_result"
    }
   ],
   "source": [
    "data_full.head()"
   ]
  },
  {
   "cell_type": "code",
   "execution_count": 0,
   "metadata": {
    "colab": {},
    "colab_type": "code",
    "id": "5Sdrsejg5p8U"
   },
   "outputs": [],
   "source": [
    "import tensorflow as tf\n",
    "import tensorflow_hub as hub\n",
    "import pandas as pd\n",
    "from sklearn import preprocessing\n",
    "import keras\n",
    "import numpy as np"
   ]
  },
  {
   "cell_type": "code",
   "execution_count": 0,
   "metadata": {
    "colab": {},
    "colab_type": "code",
    "id": "Bwz590sf5p8Y"
   },
   "outputs": [],
   "source": [
    "url = \"https://tfhub.dev/google/elmo/3\"\n",
    "embed = hub.Module(url)"
   ]
  },
  {
   "cell_type": "code",
   "execution_count": 39,
   "metadata": {
    "colab": {
     "base_uri": "https://localhost:8080/",
     "height": 85
    },
    "colab_type": "code",
    "id": "ZtrWD4-lojV7",
    "outputId": "d5d414d4-6a1c-4526-a5a3-b4e2e136b959"
   },
   "outputs": [
    {
     "name": "stdout",
     "output_type": "stream",
     "text": [
      "(30219,)\n",
      "(3358,)\n",
      "(30219, 11074)\n",
      "(3358, 11074)\n"
     ]
    }
   ],
   "source": [
    "X_train_elmo, X_test_elmo, Y_train_elmo, Y_test_elmo = model_selection.train_test_split(data_full['full_text_proc_final'], ipc_df, test_size=0.1)\n",
    "\n",
    "print(X_train_elmo.shape)\n",
    "print(X_test_elmo.shape)\n",
    "print(Y_train_elmo.shape)\n",
    "print(Y_test_elmo.shape)"
   ]
  },
  {
   "cell_type": "code",
   "execution_count": 40,
   "metadata": {
    "colab": {
     "base_uri": "https://localhost:8080/",
     "height": 683
    },
    "colab_type": "code",
    "id": "WhaTfsI4uuNB",
    "outputId": "60933627-c399-4ecf-a33b-2d22a2b6f930"
   },
   "outputs": [
    {
     "name": "stdout",
     "output_type": "stream",
     "text": [
      "WARNING:tensorflow:From /usr/local/lib/python3.6/dist-packages/keras/backend/tensorflow_backend.py:66: The name tf.get_default_graph is deprecated. Please use tf.compat.v1.get_default_graph instead.\n",
      "\n"
     ]
    },
    {
     "name": "stderr",
     "output_type": "stream",
     "text": [
      "WARNING:tensorflow:From /usr/local/lib/python3.6/dist-packages/keras/backend/tensorflow_backend.py:66: The name tf.get_default_graph is deprecated. Please use tf.compat.v1.get_default_graph instead.\n",
      "\n"
     ]
    },
    {
     "name": "stdout",
     "output_type": "stream",
     "text": [
      "WARNING:tensorflow:From /usr/local/lib/python3.6/dist-packages/keras/backend/tensorflow_backend.py:541: The name tf.placeholder is deprecated. Please use tf.compat.v1.placeholder instead.\n",
      "\n"
     ]
    },
    {
     "name": "stderr",
     "output_type": "stream",
     "text": [
      "WARNING:tensorflow:From /usr/local/lib/python3.6/dist-packages/keras/backend/tensorflow_backend.py:541: The name tf.placeholder is deprecated. Please use tf.compat.v1.placeholder instead.\n",
      "\n"
     ]
    },
    {
     "name": "stdout",
     "output_type": "stream",
     "text": [
      "INFO:tensorflow:Saver not created because there are no variables in the graph to restore\n"
     ]
    },
    {
     "name": "stderr",
     "output_type": "stream",
     "text": [
      "INFO:tensorflow:Saver not created because there are no variables in the graph to restore\n"
     ]
    },
    {
     "name": "stdout",
     "output_type": "stream",
     "text": [
      "WARNING:tensorflow:From /usr/local/lib/python3.6/dist-packages/keras/backend/tensorflow_backend.py:4432: The name tf.random_uniform is deprecated. Please use tf.random.uniform instead.\n",
      "\n"
     ]
    },
    {
     "name": "stderr",
     "output_type": "stream",
     "text": [
      "WARNING:tensorflow:From /usr/local/lib/python3.6/dist-packages/keras/backend/tensorflow_backend.py:4432: The name tf.random_uniform is deprecated. Please use tf.random.uniform instead.\n",
      "\n"
     ]
    },
    {
     "name": "stdout",
     "output_type": "stream",
     "text": [
      "WARNING:tensorflow:From /usr/local/lib/python3.6/dist-packages/keras/backend/tensorflow_backend.py:148: The name tf.placeholder_with_default is deprecated. Please use tf.compat.v1.placeholder_with_default instead.\n",
      "\n"
     ]
    },
    {
     "name": "stderr",
     "output_type": "stream",
     "text": [
      "WARNING:tensorflow:From /usr/local/lib/python3.6/dist-packages/keras/backend/tensorflow_backend.py:148: The name tf.placeholder_with_default is deprecated. Please use tf.compat.v1.placeholder_with_default instead.\n",
      "\n"
     ]
    },
    {
     "name": "stdout",
     "output_type": "stream",
     "text": [
      "WARNING:tensorflow:From /usr/local/lib/python3.6/dist-packages/keras/backend/tensorflow_backend.py:3733: calling dropout (from tensorflow.python.ops.nn_ops) with keep_prob is deprecated and will be removed in a future version.\n",
      "Instructions for updating:\n",
      "Please use `rate` instead of `keep_prob`. Rate should be set to `rate = 1 - keep_prob`.\n"
     ]
    },
    {
     "name": "stderr",
     "output_type": "stream",
     "text": [
      "WARNING:tensorflow:From /usr/local/lib/python3.6/dist-packages/keras/backend/tensorflow_backend.py:3733: calling dropout (from tensorflow.python.ops.nn_ops) with keep_prob is deprecated and will be removed in a future version.\n",
      "Instructions for updating:\n",
      "Please use `rate` instead of `keep_prob`. Rate should be set to `rate = 1 - keep_prob`.\n"
     ]
    },
    {
     "name": "stdout",
     "output_type": "stream",
     "text": [
      "WARNING:tensorflow:From /usr/local/lib/python3.6/dist-packages/keras/optimizers.py:793: The name tf.train.Optimizer is deprecated. Please use tf.compat.v1.train.Optimizer instead.\n",
      "\n"
     ]
    },
    {
     "name": "stderr",
     "output_type": "stream",
     "text": [
      "WARNING:tensorflow:From /usr/local/lib/python3.6/dist-packages/keras/optimizers.py:793: The name tf.train.Optimizer is deprecated. Please use tf.compat.v1.train.Optimizer instead.\n",
      "\n"
     ]
    },
    {
     "name": "stdout",
     "output_type": "stream",
     "text": [
      "WARNING:tensorflow:From /usr/local/lib/python3.6/dist-packages/keras/backend/tensorflow_backend.py:3657: The name tf.log is deprecated. Please use tf.math.log instead.\n",
      "\n"
     ]
    },
    {
     "name": "stderr",
     "output_type": "stream",
     "text": [
      "WARNING:tensorflow:From /usr/local/lib/python3.6/dist-packages/keras/backend/tensorflow_backend.py:3657: The name tf.log is deprecated. Please use tf.math.log instead.\n",
      "\n"
     ]
    },
    {
     "name": "stdout",
     "output_type": "stream",
     "text": [
      "WARNING:tensorflow:From /usr/local/lib/python3.6/dist-packages/tensorflow_core/python/ops/nn_impl.py:183: where (from tensorflow.python.ops.array_ops) is deprecated and will be removed in a future version.\n",
      "Instructions for updating:\n",
      "Use tf.where in 2.0, which has the same broadcast rule as np.where\n"
     ]
    },
    {
     "name": "stderr",
     "output_type": "stream",
     "text": [
      "WARNING:tensorflow:From /usr/local/lib/python3.6/dist-packages/tensorflow_core/python/ops/nn_impl.py:183: where (from tensorflow.python.ops.array_ops) is deprecated and will be removed in a future version.\n",
      "Instructions for updating:\n",
      "Use tf.where in 2.0, which has the same broadcast rule as np.where\n"
     ]
    }
   ],
   "source": [
    "from keras.layers import LSTM, GRU, Dense, Activation, Dropout, Input, Embedding, Bidirectional, Reshape, Flatten, Conv1D, MaxPooling1D, MaxPool1D, GlobalMaxPool1D, SpatialDropout1D, Lambda\n",
    "from keras.models import Model\n",
    "import keras.backend as K\n",
    "from keras import optimizers, models\n",
    "\n",
    "\n",
    "def ELMoEmbedding(x):\n",
    "    return embed(tf.squeeze(tf.cast(x, tf.string)), signature=\"default\", as_dict=True)[\"default\"]\n",
    "\n",
    "input_text = Input(shape=(1,), dtype=tf.string)\n",
    "embedding = Lambda(ELMoEmbedding, trainable=False, output_shape=(1024,))(input_text)\n",
    "dense = Dense(100, activation='relu')(embedding)\n",
    "dense = Dropout(0.25)(dense)\n",
    "dense2 = Dense(50, activation='relu')(dense)\n",
    "dense2 = Dropout(0.05)(dense2)\n",
    "pred = Dense(len(mlb.classes_), activation='sigmoid')(dense2)\n",
    "model = Model(inputs=[input_text], outputs=pred)\n",
    "model.compile(loss='binary_crossentropy', optimizer=optimizers.Adam(lr=1e-6), metrics=['accuracy'])"
   ]
  },
  {
   "cell_type": "code",
   "execution_count": 41,
   "metadata": {
    "colab": {
     "base_uri": "https://localhost:8080/",
     "height": 632
    },
    "colab_type": "code",
    "id": "iAsVas-6G9xF",
    "outputId": "3c542896-758c-4bfb-a20d-967f75545117"
   },
   "outputs": [
    {
     "name": "stdout",
     "output_type": "stream",
     "text": [
      "WARNING:tensorflow:From /usr/local/lib/python3.6/dist-packages/keras/backend/tensorflow_backend.py:1033: The name tf.assign_add is deprecated. Please use tf.compat.v1.assign_add instead.\n",
      "\n"
     ]
    },
    {
     "name": "stderr",
     "output_type": "stream",
     "text": [
      "WARNING:tensorflow:From /usr/local/lib/python3.6/dist-packages/keras/backend/tensorflow_backend.py:1033: The name tf.assign_add is deprecated. Please use tf.compat.v1.assign_add instead.\n",
      "\n"
     ]
    },
    {
     "name": "stdout",
     "output_type": "stream",
     "text": [
      "WARNING:tensorflow:From /usr/local/lib/python3.6/dist-packages/keras/backend/tensorflow_backend.py:1020: The name tf.assign is deprecated. Please use tf.compat.v1.assign instead.\n",
      "\n"
     ]
    },
    {
     "name": "stderr",
     "output_type": "stream",
     "text": [
      "WARNING:tensorflow:From /usr/local/lib/python3.6/dist-packages/keras/backend/tensorflow_backend.py:1020: The name tf.assign is deprecated. Please use tf.compat.v1.assign instead.\n",
      "\n"
     ]
    },
    {
     "name": "stdout",
     "output_type": "stream",
     "text": [
      "Train on 27197 samples, validate on 3022 samples\n",
      "Epoch 1/5\n",
      "WARNING:tensorflow:From /usr/local/lib/python3.6/dist-packages/keras/backend/tensorflow_backend.py:190: The name tf.get_default_session is deprecated. Please use tf.compat.v1.get_default_session instead.\n",
      "\n"
     ]
    },
    {
     "name": "stderr",
     "output_type": "stream",
     "text": [
      "WARNING:tensorflow:From /usr/local/lib/python3.6/dist-packages/keras/backend/tensorflow_backend.py:190: The name tf.get_default_session is deprecated. Please use tf.compat.v1.get_default_session instead.\n",
      "\n"
     ]
    },
    {
     "name": "stdout",
     "output_type": "stream",
     "text": [
      "WARNING:tensorflow:From /usr/local/lib/python3.6/dist-packages/keras/backend/tensorflow_backend.py:207: The name tf.global_variables is deprecated. Please use tf.compat.v1.global_variables instead.\n",
      "\n"
     ]
    },
    {
     "name": "stderr",
     "output_type": "stream",
     "text": [
      "WARNING:tensorflow:From /usr/local/lib/python3.6/dist-packages/keras/backend/tensorflow_backend.py:207: The name tf.global_variables is deprecated. Please use tf.compat.v1.global_variables instead.\n",
      "\n"
     ]
    },
    {
     "name": "stdout",
     "output_type": "stream",
     "text": [
      "WARNING:tensorflow:From /usr/local/lib/python3.6/dist-packages/keras/backend/tensorflow_backend.py:216: The name tf.is_variable_initialized is deprecated. Please use tf.compat.v1.is_variable_initialized instead.\n",
      "\n"
     ]
    },
    {
     "name": "stderr",
     "output_type": "stream",
     "text": [
      "WARNING:tensorflow:From /usr/local/lib/python3.6/dist-packages/keras/backend/tensorflow_backend.py:216: The name tf.is_variable_initialized is deprecated. Please use tf.compat.v1.is_variable_initialized instead.\n",
      "\n"
     ]
    },
    {
     "name": "stdout",
     "output_type": "stream",
     "text": [
      "WARNING:tensorflow:From /usr/local/lib/python3.6/dist-packages/keras/backend/tensorflow_backend.py:223: The name tf.variables_initializer is deprecated. Please use tf.compat.v1.variables_initializer instead.\n",
      "\n"
     ]
    },
    {
     "name": "stderr",
     "output_type": "stream",
     "text": [
      "WARNING:tensorflow:From /usr/local/lib/python3.6/dist-packages/keras/backend/tensorflow_backend.py:223: The name tf.variables_initializer is deprecated. Please use tf.compat.v1.variables_initializer instead.\n",
      "\n"
     ]
    },
    {
     "name": "stdout",
     "output_type": "stream",
     "text": [
      "27197/27197 [==============================] - 186s 7ms/step - loss: 0.6928 - acc: 0.5123 - val_loss: 0.6922 - val_acc: 0.5322\n",
      "Epoch 2/5\n",
      "27197/27197 [==============================] - 170s 6ms/step - loss: 0.6911 - acc: 0.5514 - val_loss: 0.6901 - val_acc: 0.5778\n",
      "Epoch 3/5\n",
      "27197/27197 [==============================] - 171s 6ms/step - loss: 0.6880 - acc: 0.5983 - val_loss: 0.6864 - val_acc: 0.6313\n",
      "Epoch 4/5\n",
      "27197/27197 [==============================] - 170s 6ms/step - loss: 0.6833 - acc: 0.6501 - val_loss: 0.6809 - val_acc: 0.6869\n",
      "Epoch 5/5\n",
      "27197/27197 [==============================] - 170s 6ms/step - loss: 0.6768 - acc: 0.7023 - val_loss: 0.6737 - val_acc: 0.7401\n"
     ]
    }
   ],
   "source": [
    "with tf.Session() as session:\n",
    "    K.set_session(session)\n",
    "    session.run(tf.global_variables_initializer())  \n",
    "    session.run(tf.tables_initializer())\n",
    "    history = model.fit(X_train_elmo, Y_train_elmo, epochs=5, batch_size=100, verbose=1,\n",
    "                    validation_split=0.1)\n"
   ]
  },
  {
   "cell_type": "markdown",
   "metadata": {
    "colab_type": "text",
    "id": "mlyy165J5bf3"
   },
   "source": [
    "**GLOVE EMBEDDINGS**"
   ]
  },
  {
   "cell_type": "code",
   "execution_count": 0,
   "metadata": {
    "colab": {},
    "colab_type": "code",
    "id": "hCyPZjQd5p7p"
   },
   "outputs": [],
   "source": [
    "from numpy import array\n",
    "from numpy import asarray\n",
    "from numpy import zeros\n",
    "\n",
    "sequence_length = 600\n",
    "embedding_dim = 100\n",
    "\n",
    "embeddings_dictionary = dict()\n",
    "\n",
    "glove_file = open('/content/drive/My Drive/Colab Notebooks/glove.6B.100d.txt', encoding=\"utf8\")\n",
    "\n",
    "for line in glove_file:\n",
    "    records = line.split()\n",
    "    word = records[0]\n",
    "    vector_dimensions = asarray(records[1:], dtype='float32')\n",
    "    embeddings_dictionary[word] = vector_dimensions\n",
    "glove_file.close()"
   ]
  },
  {
   "cell_type": "code",
   "execution_count": 0,
   "metadata": {
    "colab": {},
    "colab_type": "code",
    "id": "JNTtIPJq5p7v"
   },
   "outputs": [],
   "source": [
    "token = Tokenizer(filters='.') \n",
    "token.fit_on_texts(data_full['full_text_proc_final']) \n",
    "word_index = token.word_index"
   ]
  },
  {
   "cell_type": "code",
   "execution_count": 45,
   "metadata": {
    "colab": {
     "base_uri": "https://localhost:8080/",
     "height": 85
    },
    "colab_type": "code",
    "id": "qbFcMlSL-dbj",
    "outputId": "73d39bb8-3141-4f90-bd17-d8ef0157a275"
   },
   "outputs": [
    {
     "name": "stdout",
     "output_type": "stream",
     "text": [
      "(30219,)\n",
      "(3358,)\n",
      "(30219, 11074)\n",
      "(3358, 11074)\n"
     ]
    }
   ],
   "source": [
    "X_train_glove, X_test_glove, Y_train_glove, Y_test_glove = model_selection.train_test_split(data_full['full_text_proc_final'], ipc_df, test_size=0.1)\n",
    "\n",
    "print(X_train_glove.shape)\n",
    "print(X_test_glove.shape)\n",
    "print(Y_train_glove.shape)\n",
    "print(Y_test_glove.shape)"
   ]
  },
  {
   "cell_type": "code",
   "execution_count": 0,
   "metadata": {
    "colab": {},
    "colab_type": "code",
    "id": "SW-L8sbO5p7z"
   },
   "outputs": [],
   "source": [
    "X_train_seq = pad_sequences(token.texts_to_sequences(X_train_glove), maxlen=sequence_length)\n",
    "X_test_seq = pad_sequences(token.texts_to_sequences(X_test_glove), maxlen=sequence_length)"
   ]
  },
  {
   "cell_type": "code",
   "execution_count": 47,
   "metadata": {
    "colab": {
     "base_uri": "https://localhost:8080/",
     "height": 51
    },
    "colab_type": "code",
    "id": "RD3j9Rhf5p71",
    "outputId": "a3c94c79-faea-4a2b-83d7-457b85a3bc1c"
   },
   "outputs": [
    {
     "name": "stdout",
     "output_type": "stream",
     "text": [
      "(30219, 600)\n",
      "(3358, 600)\n"
     ]
    }
   ],
   "source": [
    "print(X_train_seq.shape)\n",
    "print(X_test_seq.shape)"
   ]
  },
  {
   "cell_type": "code",
   "execution_count": 0,
   "metadata": {
    "colab": {},
    "colab_type": "code",
    "id": "qJ5wB_ZV5p73"
   },
   "outputs": [],
   "source": [
    "embedding_matrix = np.zeros((len(word_index) + 1, 100))\n",
    "for word, i in word_index.items():\n",
    "    embedding_vector = embeddings_dictionary.get(word)\n",
    "    if embedding_vector is not None:\n",
    "        embedding_matrix[i] = embedding_vector"
   ]
  },
  {
   "cell_type": "code",
   "execution_count": 49,
   "metadata": {
    "colab": {
     "base_uri": "https://localhost:8080/",
     "height": 34
    },
    "colab_type": "code",
    "id": "x0tycuUG5p75",
    "outputId": "ae853c38-d3ef-4ba4-ff29-55fd10f259cb"
   },
   "outputs": [
    {
     "data": {
      "text/plain": [
       "(43974, 100)"
      ]
     },
     "execution_count": 49,
     "metadata": {
      "tags": []
     },
     "output_type": "execute_result"
    }
   ],
   "source": [
    "embedding_matrix.shape"
   ]
  },
  {
   "cell_type": "code",
   "execution_count": 50,
   "metadata": {
    "colab": {
     "base_uri": "https://localhost:8080/",
     "height": 34
    },
    "colab_type": "code",
    "id": "j7iVS5Uf5p7-",
    "outputId": "cfaddd3c-9d1d-4f0c-ef6a-a10c0100c6f1"
   },
   "outputs": [
    {
     "data": {
      "text/plain": [
       "11074"
      ]
     },
     "execution_count": 50,
     "metadata": {
      "tags": []
     },
     "output_type": "execute_result"
    }
   ],
   "source": [
    "ipc_df.shape[1] "
   ]
  },
  {
   "cell_type": "code",
   "execution_count": 0,
   "metadata": {
    "colab": {},
    "colab_type": "code",
    "id": "GYvQJ9Iw5p8A"
   },
   "outputs": [],
   "source": [
    "from keras.layers import LSTM, GRU, Dense, Activation, Dropout, Input, Embedding, Bidirectional, Reshape, Flatten, Conv1D, MaxPooling1D, MaxPool1D, GlobalMaxPool1D, SpatialDropout1D\n",
    "from keras import optimizers, models\n",
    "\n",
    "vocabulary_size = len(word_index) + 1\n",
    "sequence_length = sequence_length\n",
    "embedding_dim = embedding_dim\n",
    "num_filters = 100\n",
    "kernel_size = 3 \n",
    "\n",
    "classes = ipc_df.shape[1]\n",
    "\n",
    "learning_rate = 1e-6"
   ]
  },
  {
   "cell_type": "code",
   "execution_count": 0,
   "metadata": {
    "colab": {},
    "colab_type": "code",
    "id": "EgFNp8tk5p8C"
   },
   "outputs": [],
   "source": [
    "def CNN_model():\n",
    "    input_layer = Input(shape=(sequence_length,), dtype='int32')\n",
    "\n",
    "    embedding_layer = Embedding(input_dim=vocabulary_size, output_dim=embedding_dim, input_length=sequence_length, \n",
    "                                weights=[embedding_matrix], trainable=False)(input_layer)\n",
    "    embedding_layer = SpatialDropout1D(0.2)(embedding_layer)\n",
    "\n",
    "    conv_layer = Conv1D(num_filters, kernel_size=kernel_size, activation=\"relu\")(embedding_layer)\n",
    "\n",
    "    pooling_layer = GlobalMaxPool1D()(conv_layer)\n",
    "\n",
    "    output_layer1 = Dense(50, activation=\"relu\")(pooling_layer)\n",
    "    output_layer1 = Dropout(0.25)(output_layer1)\n",
    "    output_layer2 = Dense(units=classes, activation=\"sigmoid\")(output_layer1)\n",
    "\n",
    "    model = models.Model(inputs=input_layer, outputs=output_layer2,)\n",
    "    model.compile(optimizer=optimizers.Adam(lr=learning_rate), \n",
    "                  loss='binary_crossentropy', \n",
    "                  metrics=['accuracy'])\n",
    "    return model "
   ]
  },
  {
   "cell_type": "code",
   "execution_count": 54,
   "metadata": {
    "colab": {
     "base_uri": "https://localhost:8080/",
     "height": 224
    },
    "colab_type": "code",
    "id": "0hDlknsg5p8F",
    "outputId": "fcdc99ba-e2ab-458d-d7db-a1c525a8310f"
   },
   "outputs": [
    {
     "name": "stdout",
     "output_type": "stream",
     "text": [
      "Train on 27197 samples, validate on 3022 samples\n",
      "Epoch 1/5\n",
      "27197/27197 [==============================] - 4s 148us/step - loss: 0.6927 - acc: 0.5143 - val_loss: 0.6908 - val_acc: 0.5346\n",
      "Epoch 2/5\n",
      "27197/27197 [==============================] - 3s 119us/step - loss: 0.6890 - acc: 0.5445 - val_loss: 0.6872 - val_acc: 0.5714\n",
      "Epoch 3/5\n",
      "27197/27197 [==============================] - 3s 119us/step - loss: 0.6846 - acc: 0.5774 - val_loss: 0.6827 - val_acc: 0.6108\n",
      "Epoch 4/5\n",
      "27197/27197 [==============================] - 3s 119us/step - loss: 0.6793 - acc: 0.6124 - val_loss: 0.6774 - val_acc: 0.6516\n",
      "Epoch 5/5\n",
      "27197/27197 [==============================] - 3s 119us/step - loss: 0.6731 - acc: 0.6486 - val_loss: 0.6713 - val_acc: 0.6930\n"
     ]
    }
   ],
   "source": [
    "\n",
    "batch_size = 100\n",
    "epochs = 5\n",
    "\n",
    "with tf.Session() as session2:\n",
    "  model = CNN_model()\n",
    "  history = model.fit(X_train_seq, Y_train_glove,\n",
    "                      batch_size=batch_size,\n",
    "                      epochs=epochs,\n",
    "                      verbose=1,\n",
    "                      validation_split=0.1)"
   ]
  }
 ],
 "metadata": {
  "accelerator": "GPU",
  "colab": {
   "collapsed_sections": [],
   "machine_shape": "hm",
   "name": "zaebis_fin (1).ipynb",
   "provenance": []
  },
  "kernelspec": {
   "display_name": "Python 3",
   "language": "python",
   "name": "python3"
  },
  "language_info": {
   "codemirror_mode": {
    "name": "ipython",
    "version": 3
   },
   "file_extension": ".py",
   "mimetype": "text/x-python",
   "name": "python",
   "nbconvert_exporter": "python",
   "pygments_lexer": "ipython3",
   "version": "3.7.4"
  }
 },
 "nbformat": 4,
 "nbformat_minor": 1
}
